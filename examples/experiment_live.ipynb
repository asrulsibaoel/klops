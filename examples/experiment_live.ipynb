{
 "cells": [
  {
   "cell_type": "code",
   "execution_count": 1,
   "metadata": {},
   "outputs": [
    {
     "name": "stdout",
     "output_type": "stream",
     "text": [
      "Name: klops\n",
      "Version: 0.0.3\n",
      "Summary: Klops: Koin Machine Learning Ops\n",
      "Home-page: https://gitlab-engineering.koinworks.com/data-team/klops/\n",
      "Author: Koinworks Data Team\n",
      "Author-email: \n",
      "License: \n",
      "Location: /opt/conda/envs/asrul-deluxo/lib/python3.9/site-packages\n",
      "Requires: click, dvc, google-auth, google-cloud, google-cloud-container, google-cloud-storage, hyperopt, joblib, kubernetes, matplotlib, mlflow, numpy, pandas, scikit-learn, seldon-core, tqdm\n",
      "Required-by: \n"
     ]
    }
   ],
   "source": [
    "!pip show klops"
   ]
  },
  {
   "cell_type": "code",
   "execution_count": 2,
   "metadata": {},
   "outputs": [],
   "source": [
    "# import sys\n",
    "# sys.path.append(\"/home/jupyter/asrul_workspace/development/klops/\")"
   ]
  },
  {
   "cell_type": "code",
   "execution_count": 3,
   "metadata": {},
   "outputs": [],
   "source": [
    "from klops.experiment import Experiment\n",
    "import mlflow\n",
    "from sklearn.datasets import load_iris\n",
    "from sklearn.naive_bayes import GaussianNB\n",
    "from sklearn.ensemble import RandomForestClassifier"
   ]
  },
  {
   "cell_type": "code",
   "execution_count": 4,
   "metadata": {},
   "outputs": [],
   "source": [
    "mlflow.end_run()"
   ]
  },
  {
   "cell_type": "code",
   "execution_count": 5,
   "metadata": {},
   "outputs": [],
   "source": [
    "experiment = Experiment(name=\"cakrul-1\", tracking_uri=\"http://34.101.85.55:5000/\")"
   ]
  },
  {
   "cell_type": "code",
   "execution_count": 6,
   "metadata": {},
   "outputs": [
    {
     "data": {
      "text/plain": [
       "array([0, 0, 0, 0, 0, 0, 0, 0, 0, 0, 0, 0, 0, 0, 0, 0, 0, 0, 0, 0, 0, 0,\n",
       "       0, 0, 0, 0, 0, 0, 0, 0, 0, 0, 0, 0, 0, 0, 0, 0, 0, 0, 0, 0, 0, 0,\n",
       "       0, 0, 0, 0, 0, 0, 1, 1, 1, 1, 1, 1, 1, 1, 1, 1, 1, 1, 1, 1, 1, 1,\n",
       "       1, 1, 1, 1, 1, 1, 1, 1, 1, 1, 1, 1, 1, 1, 1, 1, 1, 1, 1, 1, 1, 1,\n",
       "       1, 1, 1, 1, 1, 1, 1, 1, 1, 1, 1, 1, 2, 2, 2, 2, 2, 2, 2, 2, 2, 2,\n",
       "       2, 2, 2, 2, 2, 2, 2, 2, 2, 2, 2, 2, 2, 2, 2, 2, 2, 2, 2, 2, 2, 2,\n",
       "       2, 2, 2, 2, 2, 2, 2, 2, 2, 2, 2, 2, 2, 2, 2, 2, 2, 2])"
      ]
     },
     "execution_count": 6,
     "metadata": {},
     "output_type": "execute_result"
    }
   ],
   "source": [
    "X, y = load_iris(return_X_y=True)\n",
    "y"
   ]
  },
  {
   "attachments": {},
   "cell_type": "markdown",
   "metadata": {},
   "source": [
    "## Experiment Without Any Tuner"
   ]
  },
  {
   "cell_type": "code",
   "execution_count": 7,
   "metadata": {},
   "outputs": [
    {
     "data": {
      "text/plain": [
       "<klops.experiment.experiment.Experiment at 0x7f3d3410c2e0>"
      ]
     },
     "execution_count": 7,
     "metadata": {},
     "output_type": "execute_result"
    }
   ],
   "source": [
    "hyper_params = {'max_depth': 3,\n",
    "               'min_samples_split': 2}\n",
    "experiment.start(RandomForestClassifier(**hyper_params), x_train=X, y_train=y)"
   ]
  },
  {
   "attachments": {},
   "cell_type": "markdown",
   "metadata": {},
   "source": [
    "## Experiment Using GridsearchCV"
   ]
  },
  {
   "cell_type": "code",
   "execution_count": 8,
   "metadata": {},
   "outputs": [
    {
     "data": {
      "text/plain": [
       "<klops.experiment.experiment.Experiment at 0x7f3d3410c2e0>"
      ]
     },
     "execution_count": 8,
     "metadata": {},
     "output_type": "execute_result"
    }
   ],
   "source": [
    "param_grid = {'max_depth': [3, 5, 10],\n",
    "               'min_samples_split': [2, 5, 10]}\n",
    "classifier = RandomForestClassifier()\n",
    "experiment.start(classifier, x_train=X, y_train=y, tuner=\"gridsearch\", tuner_args=param_grid)"
   ]
  },
  {
   "attachments": {},
   "cell_type": "markdown",
   "metadata": {},
   "source": [
    "# Deployment  \n"
   ]
  },
  {
   "attachments": {},
   "cell_type": "markdown",
   "metadata": {},
   "source": [
    "## Define The Deployment Auth Target\n",
    "In this e.g, we would employ the GKE authentication since we already have a project cluster there."
   ]
  },
  {
   "cell_type": "code",
   "execution_count": 9,
   "metadata": {},
   "outputs": [],
   "source": [
    "from klops.deployment.auth import GKEAuthentication\n",
    "from klops.deployment import Deployment\n",
    "\n",
    "gke = GKEAuthentication(\n",
    "    project_id=\"koinworks-data-staging\",\n",
    "    zone=\"asia-southeast2\",\n",
    "    cluster_id=\"seldon-system-staging\")"
   ]
  },
  {
   "attachments": {},
   "cell_type": "markdown",
   "metadata": {},
   "source": [
    "### Deploy Using Auto deployment built-in in Experiment Module\n",
    "\n",
    "Our Experiment module have built-in method `deploy` to invoke the deployment. All we need is to just define the `artifact_uri` (the experiment result uri), define our `deployment_name`, define the `model_name`, the cluster's `namespace`, and  the cluster authentication instance. As mentioned before, we would employ the GKE authentication since we already have a cluster there."
   ]
  },
  {
   "attachments": {},
   "cell_type": "markdown",
   "metadata": {},
   "source": [
    "First, we need to find the experiment result, the easiest way, we could find it out by opening our MLflow Tracking UI. We would findout our experiment by selecting our experiments name there, and klick the desired models on the experiment id page. Then you would see this page, and copy your experiment artifact address as marked by red rectangle in below example.  \n",
    "\n",
    "![Example Deployment](./resources/images/experiment_result.png)"
   ]
  },
  {
   "cell_type": "code",
   "execution_count": 10,
   "metadata": {},
   "outputs": [
    {
     "name": "stdout",
     "output_type": "stream",
     "text": [
      "Klops path: /opt/conda/envs/asrul-deluxo/lib/python3.9/site-packages/klops\n"
     ]
    },
    {
     "data": {
      "text/plain": [
       "{'apiVersion': 'machinelearning.seldon.io/v1alpha2',\n",
       " 'kind': 'SeldonDeployment',\n",
       " 'metadata': {'creationTimestamp': '2023-05-26T09:15:16Z',\n",
       "  'generation': 1,\n",
       "  'managedFields': [{'apiVersion': 'machinelearning.seldon.io/v1alpha2',\n",
       "    'fieldsType': 'FieldsV1',\n",
       "    'fieldsV1': {'f:spec': {'.': {}, 'f:name': {}}},\n",
       "    'manager': 'OpenAPI-Generator',\n",
       "    'operation': 'Update',\n",
       "    'time': '2023-05-26T09:15:16Z'},\n",
       "   {'apiVersion': 'machinelearning.seldon.io/v1',\n",
       "    'fieldsType': 'FieldsV1',\n",
       "    'fieldsV1': {'f:status': {'.': {},\n",
       "      'f:address': {'.': {}, 'f:url': {}},\n",
       "      'f:conditions': {},\n",
       "      'f:deploymentStatus': {'.': {},\n",
       "       'f:mlflow-test-default-0-classifier': {'.': {}, 'f:replicas': {}}},\n",
       "      'f:description': {},\n",
       "      'f:replicas': {},\n",
       "      'f:serviceStatus': {'.': {},\n",
       "       'f:mlflow-test-default': {'.': {},\n",
       "        'f:grpcEndpoint': {},\n",
       "        'f:httpEndpoint': {},\n",
       "        'f:svcName': {}},\n",
       "       'f:mlflow-test-default-classifier': {'.': {},\n",
       "        'f:grpcEndpoint': {},\n",
       "        'f:httpEndpoint': {},\n",
       "        'f:svcName': {}}},\n",
       "      'f:state': {}}},\n",
       "    'manager': 'manager',\n",
       "    'operation': 'Update',\n",
       "    'subresource': 'status',\n",
       "    'time': '2023-05-26T09:25:17Z'}],\n",
       "  'name': 'mlflow-test',\n",
       "  'namespace': 'seldon',\n",
       "  'resourceVersion': '15087763',\n",
       "  'uid': 'a4b10309-7193-4611-9e51-6e26a612fb4c'},\n",
       " 'spec': {'name': 'iris',\n",
       "  'predictors': [{'graph': {'children': [],\n",
       "     'implementation': 'MLFLOW_SERVER',\n",
       "     'modelUri': 'gs://seldon/2/ad3398d7354743f28c1c369f5d30f584/artifacts/best_estimator',\n",
       "     'name': 'classifier',\n",
       "     'parameters': [{'name': 'xtype',\n",
       "       'type': 'STRING',\n",
       "       'value': 'DataFrame'}]},\n",
       "    'name': 'default',\n",
       "    'replicas': 1}]},\n",
       " 'status': {'address': {'url': 'http://mlflow-test-default.seldon.svc.cluster.local:8000/api/v1.0/predictions'},\n",
       "  'conditions': [{'lastTransitionTime': '2023-05-26T09:15:16Z',\n",
       "    'message': 'Deployment does not have minimum availability.',\n",
       "    'reason': 'MinimumReplicasUnavailable',\n",
       "    'status': 'False',\n",
       "    'type': 'DeploymentsReady'},\n",
       "   {'lastTransitionTime': '2023-05-26T09:15:16Z',\n",
       "    'reason': 'No HPAs defined',\n",
       "    'status': 'True',\n",
       "    'type': 'HpasReady'},\n",
       "   {'lastTransitionTime': '2023-05-26T09:15:16Z',\n",
       "    'reason': 'No KEDA resources defined',\n",
       "    'status': 'True',\n",
       "    'type': 'KedaReady'},\n",
       "   {'lastTransitionTime': '2023-05-26T09:15:16Z',\n",
       "    'reason': 'No PDBs defined',\n",
       "    'status': 'True',\n",
       "    'type': 'PdbsReady'},\n",
       "   {'lastTransitionTime': '2023-05-26T09:25:17Z',\n",
       "    'message': 'Deployment does not have minimum availability.',\n",
       "    'reason': 'MinimumReplicasUnavailable',\n",
       "    'status': 'False',\n",
       "    'type': 'Ready'},\n",
       "   {'lastTransitionTime': '2023-05-26T09:15:16Z',\n",
       "    'reason': 'Not all services created',\n",
       "    'status': 'False',\n",
       "    'type': 'ServicesReady'}],\n",
       "  'deploymentStatus': {'mlflow-test-default-0-classifier': {'replicas': 1}},\n",
       "  'description': 'Deployment is no longer progressing and not available.',\n",
       "  'replicas': 1,\n",
       "  'serviceStatus': {'mlflow-test-default': {'grpcEndpoint': 'mlflow-test-default.seldon:5001',\n",
       "    'httpEndpoint': 'mlflow-test-default.seldon:8000',\n",
       "    'svcName': 'mlflow-test-default'},\n",
       "   'mlflow-test-default-classifier': {'grpcEndpoint': 'mlflow-test-default-classifier.seldon:9500',\n",
       "    'httpEndpoint': 'mlflow-test-default-classifier.seldon:9000',\n",
       "    'svcName': 'mlflow-test-default-classifier'}},\n",
       "  'state': 'Failed'}}"
      ]
     },
     "execution_count": 10,
     "metadata": {},
     "output_type": "execute_result"
    }
   ],
   "source": [
    "# Now we would deploy it.\n",
    "# TODO:\n",
    "# add model registry as source model.\n",
    "# make sure the model already registered in model_registry. e.g: model-v2.1\n",
    "\n",
    "experiment.deploy(\n",
    "    artifact_uri=\"gs://seldon/2/ad3398d7354743f28c1c369f5d30f584/artifacts/best_estimator\",\n",
    "    deployment_name=\"mlflow-test\",\n",
    "    model_name=\"iris\",\n",
    "    authentication=gke,\n",
    "    namespace=\"seldon\")"
   ]
  },
  {
   "attachments": {},
   "cell_type": "markdown",
   "metadata": {},
   "source": [
    "### Deploy Manually Using Seldon Deployment Class  \n",
    "The Deployment Class could be instantiated directly in case of we already have the model weights. To do so, we just need to instantiate the Deployment class. Then invoke the deploy method with deployment config as the argument."
   ]
  },
  {
   "cell_type": "code",
   "execution_count": 11,
   "metadata": {},
   "outputs": [
    {
     "data": {
      "text/plain": [
       "{'apiVersion': 'machinelearning.seldon.io/v1alpha2',\n",
       " 'kind': 'SeldonDeployment',\n",
       " 'metadata': {'creationTimestamp': '2023-05-26T09:12:56Z',\n",
       "  'generation': 1,\n",
       "  'managedFields': [{'apiVersion': 'machinelearning.seldon.io/v1alpha2',\n",
       "    'fieldsType': 'FieldsV1',\n",
       "    'fieldsV1': {'f:spec': {'.': {}, 'f:name': {}, 'f:protocol': {}}},\n",
       "    'manager': 'OpenAPI-Generator',\n",
       "    'operation': 'Update',\n",
       "    'time': '2023-05-26T09:12:56Z'},\n",
       "   {'apiVersion': 'machinelearning.seldon.io/v1',\n",
       "    'fieldsType': 'FieldsV1',\n",
       "    'fieldsV1': {'f:status': {'.': {},\n",
       "      'f:address': {'.': {}, 'f:url': {}},\n",
       "      'f:conditions': {},\n",
       "      'f:deploymentStatus': {'.': {},\n",
       "       'f:sklearn-default-0-classifier': {'.': {},\n",
       "        'f:availableReplicas': {},\n",
       "        'f:replicas': {}}},\n",
       "      'f:replicas': {},\n",
       "      'f:serviceStatus': {'.': {},\n",
       "       'f:sklearn-default': {'.': {},\n",
       "        'f:grpcEndpoint': {},\n",
       "        'f:httpEndpoint': {},\n",
       "        'f:svcName': {}},\n",
       "       'f:sklearn-default-classifier': {'.': {},\n",
       "        'f:grpcEndpoint': {},\n",
       "        'f:httpEndpoint': {},\n",
       "        'f:svcName': {}}},\n",
       "      'f:state': {}}},\n",
       "    'manager': 'manager',\n",
       "    'operation': 'Update',\n",
       "    'subresource': 'status',\n",
       "    'time': '2023-05-26T09:14:52Z'}],\n",
       "  'name': 'sklearn',\n",
       "  'namespace': 'seldon',\n",
       "  'resourceVersion': '15080281',\n",
       "  'uid': 'c56362be-e0d8-492d-8600-0bc8a93d5dcf'},\n",
       " 'spec': {'name': 'iris-predict',\n",
       "  'predictors': [{'graph': {'children': [],\n",
       "     'implementation': 'SKLEARN_SERVER',\n",
       "     'modelUri': 'gs://seldon-models/v1.15.0-dev/sklearn/iris',\n",
       "     'name': 'classifier',\n",
       "     'parameters': [{'name': 'method', 'type': 'STRING', 'value': 'predict'}]},\n",
       "    'name': 'default'}],\n",
       "  'protocol': 'v2'},\n",
       " 'status': {'address': {'url': 'http://sklearn-default.seldon.svc.cluster.local:8000/v2/models/classifier/infer'},\n",
       "  'conditions': [{'lastTransitionTime': '2023-05-26T09:14:52Z',\n",
       "    'reason': 'No Ambassador Mappaings defined',\n",
       "    'status': 'True',\n",
       "    'type': 'AmbassadorMappingsReady'},\n",
       "   {'lastTransitionTime': '2023-05-26T09:14:52Z',\n",
       "    'message': 'Deployment has minimum availability.',\n",
       "    'reason': 'MinimumReplicasAvailable',\n",
       "    'status': 'True',\n",
       "    'type': 'DeploymentsReady'},\n",
       "   {'lastTransitionTime': '2023-05-26T09:12:56Z',\n",
       "    'reason': 'No HPAs defined',\n",
       "    'status': 'True',\n",
       "    'type': 'HpasReady'},\n",
       "   {'lastTransitionTime': '2023-05-26T09:12:56Z',\n",
       "    'reason': 'No KEDA resources defined',\n",
       "    'status': 'True',\n",
       "    'type': 'KedaReady'},\n",
       "   {'lastTransitionTime': '2023-05-26T09:12:56Z',\n",
       "    'reason': 'No PDBs defined',\n",
       "    'status': 'True',\n",
       "    'type': 'PdbsReady'},\n",
       "   {'lastTransitionTime': '2023-05-26T09:14:52Z',\n",
       "    'status': 'True',\n",
       "    'type': 'Ready'},\n",
       "   {'lastTransitionTime': '2023-05-26T09:14:52Z',\n",
       "    'reason': 'All services created',\n",
       "    'status': 'True',\n",
       "    'type': 'ServicesReady'},\n",
       "   {'lastTransitionTime': '2023-05-26T09:14:52Z',\n",
       "    'reason': 'All VirtualServices created',\n",
       "    'status': 'True',\n",
       "    'type': 'istioVirtualServicesReady'}],\n",
       "  'deploymentStatus': {'sklearn-default-0-classifier': {'availableReplicas': 1,\n",
       "    'replicas': 1}},\n",
       "  'replicas': 1,\n",
       "  'serviceStatus': {'sklearn-default': {'grpcEndpoint': 'sklearn-default.seldon:5001',\n",
       "    'httpEndpoint': 'sklearn-default.seldon:8000',\n",
       "    'svcName': 'sklearn-default'},\n",
       "   'sklearn-default-classifier': {'grpcEndpoint': 'sklearn-default-classifier.seldon:9500',\n",
       "    'httpEndpoint': 'sklearn-default-classifier.seldon:9000',\n",
       "    'svcName': 'sklearn-default-classifier'}},\n",
       "  'state': 'Available'}}"
      ]
     },
     "execution_count": 11,
     "metadata": {},
     "output_type": "execute_result"
    }
   ],
   "source": [
    "\n",
    "deployment = Deployment(gke, \"seldon\")\n",
    "\n",
    "config = deployment.load_deployment_configuration(\"../notebooks/iris.json\")\n",
    "deployment.deploy(config)"
   ]
  },
  {
   "attachments": {},
   "cell_type": "markdown",
   "metadata": {},
   "source": [
    "### Remove The deployment  \n",
    "When we have a model update, we should remove the current deployed. To do so, Deployment class have a method named `delete`. Passing the `deployment_name` as argument is required."
   ]
  },
  {
   "cell_type": "code",
   "execution_count": 12,
   "metadata": {},
   "outputs": [
    {
     "data": {
      "text/plain": [
       "True"
      ]
     },
     "execution_count": 12,
     "metadata": {},
     "output_type": "execute_result"
    }
   ],
   "source": [
    "deployment.delete(deployment_name=\"mlflow-test\")"
   ]
  },
  {
   "attachments": {},
   "cell_type": "markdown",
   "metadata": {},
   "source": [
    "## Versioning Our Data  \n",
    "Versioning our data is required in every machine learning project. Here are some reasons why data versioning is needed.  \n",
    "- **Ensure better training data**: ML comprises rapid experimentation, iteration, and training models on data. Thus, training on incorrect data can have disastrous results for the outcomes of an ML project.  \n",
    "- **Track data schema**: Enterprise data is usually obtained in batches, and often minor changes in the ML schema are applied throughout a project. With proper versioning, you can easily track and evolve the data schema over time. You can also understand whether these changes are backward and forward compatible.  \n",
    "- **Continual model training**: In production environments, data is refreshed periodically and may trigger a new run of the model training pipeline. When such automated retraining occurs, it is essential to have data versioned for tracking a model’s efficacy.  \n",
    "- **Enhance traceability and reproducibility**: Data scientists must be able to track, identify the provenance of data, and point out which version of a dataset reinforces the outcomes of their experiments. They should re-run the entire ML pipeline and reproduce the exact results each time as it is a critical input for the modeling process. Thus, the original training data must always be available. Hence, from a reproducibility/traceability perspective, proper versioning is critical.  \n",
    "- **Auditing**: Proper versioning ensures that the integrity of data-based activities is upheld by identifying when modifications are made. By monitoring and analyzing the actions of both users and models, auditors can identify intentional and accidental lapses in user behavior. Data science auditors can thus examine the effect of data changes on model accuracy and determine best ML practices for the enterprise.  \n",
    "This can be done by using our Klops Versioning. Klops Versioning is a kind of version control based on DVC. It is a wrapper for DVC. This wrapper aimed to make every DVC command code minded. "
   ]
  },
  {
   "cell_type": "code",
   "execution_count": 13,
   "metadata": {},
   "outputs": [],
   "source": [
    "from klops.versioning import Versioning\n",
    "version = Versioning()"
   ]
  },
  {
   "cell_type": "code",
   "execution_count": 14,
   "metadata": {},
   "outputs": [
    {
     "name": "stderr",
     "output_type": "stream",
     "text": [
      "\u001b[31mERROR\u001b[39m: failed to initiate DVC - /home/jupyter/asrul_workspace/development/klops/examples is not tracked by any supported SCM tool (e.g. Git). Use `--no-scm` if you don't want to use any SCM or `--subdir` if initializing inside a subdirectory of a parent SCM repository.\n",
      "2023-05-26 09:52:46,787 ERROR    Command 'dvc init' returned non-zero exit status 1.\n"
     ]
    }
   ],
   "source": [
    "version.init()"
   ]
  },
  {
   "cell_type": "code",
   "execution_count": 15,
   "metadata": {},
   "outputs": [
    {
     "name": "stdout",
     "output_type": "stream",
     "text": [
      "Setting 'iris' as a default remote.\n"
     ]
    },
    {
     "name": "stderr",
     "output_type": "stream",
     "text": [
      "\u001b[31mERROR\u001b[39m: configuration error - config file error: Not inside a DVC repo\n",
      "2023-05-26 09:52:47,529 ERROR    Command 'dvc remote add -d iris gs://dvc-storage-ds-jkt/iris' returned non-zero exit status 251.\n"
     ]
    }
   ],
   "source": [
    "# Add DVC Remote\n",
    "\n",
    "version.add_remote(name=\"iris\",remote_url=\"gs://dvc-storage-ds-jkt/iris\")"
   ]
  },
  {
   "cell_type": "code",
   "execution_count": 16,
   "metadata": {},
   "outputs": [
    {
     "name": "stderr",
     "output_type": "stream",
     "text": [
      "\u001b[31mERROR\u001b[39m: you are not inside of a DVC repository (checked up to mount point '/home/jupyter')\n",
      "2023-05-26 09:52:48,297 ERROR    Command 'dvc add notebooks/' returned non-zero exit status 253.\n"
     ]
    }
   ],
   "source": [
    "# Track file\n",
    "version.add(\"notebooks/\")"
   ]
  },
  {
   "cell_type": "code",
   "execution_count": 17,
   "metadata": {},
   "outputs": [
    {
     "name": "stderr",
     "output_type": "stream",
     "text": [
      "\u001b[31mERROR\u001b[39m: you are not inside of a DVC repository (checked up to mount point '/home/jupyter')\n",
      "2023-05-26 09:52:49,055 ERROR    Command 'dvc push' returned non-zero exit status 253.\n"
     ]
    }
   ],
   "source": [
    "# Push revision\n",
    "\n",
    "version.push()"
   ]
  }
 ],
 "metadata": {
  "kernelspec": {
   "display_name": "Python 3.9.13 ('asrul-mlflow')",
   "language": "python",
   "name": "python3"
  },
  "language_info": {
   "codemirror_mode": {
    "name": "ipython",
    "version": 3
   },
   "file_extension": ".py",
   "mimetype": "text/x-python",
   "name": "python",
   "nbconvert_exporter": "python",
   "pygments_lexer": "ipython3",
   "version": "3.9.15"
  },
  "orig_nbformat": 4,
  "vscode": {
   "interpreter": {
    "hash": "571b078681f35b7d47508eead7c23ad0eaa4eec6a7ce65820e5e2f158d207f6c"
   }
  }
 },
 "nbformat": 4,
 "nbformat_minor": 2
}
