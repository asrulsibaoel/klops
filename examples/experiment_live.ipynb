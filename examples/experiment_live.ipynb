{
 "cells": [
  {
   "cell_type": "code",
   "execution_count": 1,
   "metadata": {},
   "outputs": [
    {
     "name": "stdout",
     "output_type": "stream",
     "text": [
      "Name: klops\n",
      "Version: 0.0.3\n",
      "Summary: Klops: Koin Machine Learning Ops\n",
      "Home-page: https://gitlab-engineering.koinworks.com/data-team/klops/\n",
      "Author: Koinworks Data Team\n",
      "Author-email: \n",
      "License: \n",
      "Location: /opt/conda/envs/asrul-deluxo/lib/python3.9/site-packages\n",
      "Requires: click, dvc, google-auth, google-cloud, google-cloud-container, google-cloud-storage, hyperopt, joblib, kubernetes, matplotlib, mlflow, numpy, pandas, scikit-learn, seldon-core, tqdm\n",
      "Required-by: \n"
     ]
    }
   ],
   "source": [
    "!pip show klops"
   ]
  },
  {
   "cell_type": "code",
   "execution_count": 2,
   "metadata": {},
   "outputs": [],
   "source": [
    "# import sys\n",
    "# sys.path.append(\"/home/jupyter/asrul_workspace/development/klops/\")"
   ]
  },
  {
   "cell_type": "code",
   "execution_count": 3,
   "metadata": {},
   "outputs": [],
   "source": [
    "from klops.experiment import Experiment\n",
    "import mlflow\n",
    "from sklearn.datasets import load_iris\n",
    "from sklearn.naive_bayes import GaussianNB\n",
    "from sklearn.ensemble import RandomForestClassifier"
   ]
  },
  {
   "cell_type": "code",
   "execution_count": 4,
   "metadata": {},
   "outputs": [],
   "source": [
    "mlflow.end_run()"
   ]
  },
  {
   "cell_type": "code",
   "execution_count": 6,
   "metadata": {},
   "outputs": [
    {
     "name": "stderr",
     "output_type": "stream",
     "text": [
      "2023/05/15 03:39:38 INFO mlflow.tracking.fluent: Experiment with name 'cakrul-1' does not exist. Creating a new experiment.\n"
     ]
    }
   ],
   "source": [
    "experiment = Experiment(name=\"cakrul-1\", tracking_uri=\"http://localhost:5000/\")"
   ]
  },
  {
   "cell_type": "code",
   "execution_count": 7,
   "metadata": {},
   "outputs": [
    {
     "data": {
      "text/plain": [
       "array([0, 0, 0, 0, 0, 0, 0, 0, 0, 0, 0, 0, 0, 0, 0, 0, 0, 0, 0, 0, 0, 0,\n",
       "       0, 0, 0, 0, 0, 0, 0, 0, 0, 0, 0, 0, 0, 0, 0, 0, 0, 0, 0, 0, 0, 0,\n",
       "       0, 0, 0, 0, 0, 0, 1, 1, 1, 1, 1, 1, 1, 1, 1, 1, 1, 1, 1, 1, 1, 1,\n",
       "       1, 1, 1, 1, 1, 1, 1, 1, 1, 1, 1, 1, 1, 1, 1, 1, 1, 1, 1, 1, 1, 1,\n",
       "       1, 1, 1, 1, 1, 1, 1, 1, 1, 1, 1, 1, 2, 2, 2, 2, 2, 2, 2, 2, 2, 2,\n",
       "       2, 2, 2, 2, 2, 2, 2, 2, 2, 2, 2, 2, 2, 2, 2, 2, 2, 2, 2, 2, 2, 2,\n",
       "       2, 2, 2, 2, 2, 2, 2, 2, 2, 2, 2, 2, 2, 2, 2, 2, 2, 2])"
      ]
     },
     "execution_count": 7,
     "metadata": {},
     "output_type": "execute_result"
    }
   ],
   "source": [
    "X, y = load_iris(return_X_y=True)\n",
    "y"
   ]
  },
  {
   "attachments": {},
   "cell_type": "markdown",
   "metadata": {},
   "source": [
    "## Experiment Without Any Tuner"
   ]
  },
  {
   "cell_type": "code",
   "execution_count": 8,
   "metadata": {},
   "outputs": [
    {
     "data": {
      "text/plain": [
       "<klops.experiment.experiment.Experiment at 0x7efd34412130>"
      ]
     },
     "execution_count": 8,
     "metadata": {},
     "output_type": "execute_result"
    }
   ],
   "source": [
    "hyper_params = {'max_depth': 3,\n",
    "               'min_samples_split': 2}\n",
    "experiment.start(RandomForestClassifier(**hyper_params), x_train=X, y_train=y)"
   ]
  },
  {
   "attachments": {},
   "cell_type": "markdown",
   "metadata": {},
   "source": [
    "## Experiment Using GridsearchCV"
   ]
  },
  {
   "cell_type": "code",
   "execution_count": 9,
   "metadata": {},
   "outputs": [
    {
     "data": {
      "text/plain": [
       "<klops.experiment.experiment.Experiment at 0x7efd34412130>"
      ]
     },
     "execution_count": 9,
     "metadata": {},
     "output_type": "execute_result"
    }
   ],
   "source": [
    "param_grid = {'max_depth': [3, 5, 10],\n",
    "               'min_samples_split': [2, 5, 10]}\n",
    "classifier = RandomForestClassifier()\n",
    "experiment.start(classifier, x_train=X, y_train=y, tuner=\"gridsearch\", tuner_args=param_grid)"
   ]
  },
  {
   "attachments": {},
   "cell_type": "markdown",
   "metadata": {},
   "source": [
    "# Deployment  \n"
   ]
  },
  {
   "attachments": {},
   "cell_type": "markdown",
   "metadata": {},
   "source": [
    "## Define The Deployment Auth Target\n",
    "In this e.g, we would employ the GKE authentication since we already have a project cluster there."
   ]
  },
  {
   "cell_type": "code",
   "execution_count": null,
   "metadata": {},
   "outputs": [],
   "source": [
    "from klops.deployment.auth import GKEAuthentication\n",
    "from klops.deployment import Deployment\n",
    "\n",
    "gke = GKEAuthentication(\n",
    "    project_id=\"koinworks-data-staging\",\n",
    "    zone=\"asia-southeast2\",\n",
    "    cluster_id=\"seldon-system-dev\")"
   ]
  },
  {
   "attachments": {},
   "cell_type": "markdown",
   "metadata": {},
   "source": [
    "### Deploy Using Auto deployment built-in in Experiment Module\n",
    "\n",
    "Our Experiment module have built-in method `deploy` to invoke the deployment. All we need is to just define the `artifact_uri` (the experiment result uri), define our `deployment_name`, define the `model_name`, the cluster's `namespace`, and  the cluster authentication instance. As mentioned before, we would employ the GKE authentication since we already have a cluster there."
   ]
  },
  {
   "attachments": {},
   "cell_type": "markdown",
   "metadata": {},
   "source": [
    "First, we need to find the experiment result, the easiest way, we could find it out by opening our MLflow Tracking UI. We would findout our experiment by selecting our experiments name there, and klick the desired models on the experiment id page. Then you would see this page, and copy your experiment artifact address as marked by red rectangle in below example.  \n",
    "\n",
    "![Example Deployment](./resources/images/experiment_result.png)"
   ]
  },
  {
   "cell_type": "code",
   "execution_count": null,
   "metadata": {},
   "outputs": [],
   "source": [
    "# Now we would deploy it.\n",
    "# TODO:\n",
    "# add model registry as source model.\n",
    "# make sure the model already registered in model_registry. e.g: model-v2.1\n",
    "\n",
    "experiment.deploy(\n",
    "    artifact_uri=\"gs://koinworks-mlflow-dev/mlruns/18/431638e6fa68449a8c5be36023fc4316/artifacts/model\",\n",
    "    deployment_name=\"mlflow-test\",\n",
    "    model_name=\"iris-mlflow\",\n",
    "    authentication=gke,\n",
    "    namespace=\"seldon\")"
   ]
  },
  {
   "attachments": {},
   "cell_type": "markdown",
   "metadata": {},
   "source": [
    "### Deploy Manually Using Seldon Deployment Class  \n",
    "The Deployment Class could be instantiated directly in case of we already have the model weights. To do so, we just need to instantiate the Deployment class. Then invoke the deploy method with deployment config as the argument."
   ]
  },
  {
   "cell_type": "code",
   "execution_count": null,
   "metadata": {},
   "outputs": [],
   "source": [
    "\n",
    "deployment = Deployment(gke, \"seldon\")\n",
    "\n",
    "config = deployment.load_deployment_configuration(\"../notebooks/iris.json\")\n",
    "deployment.deploy(config)"
   ]
  },
  {
   "attachments": {},
   "cell_type": "markdown",
   "metadata": {},
   "source": [
    "### Remove The deployment  \n",
    "When we have a model update, we should remove the current deployed. To do so, Deployment class have a method named `delete`. Passing the `deployment_name` as argument is required."
   ]
  },
  {
   "cell_type": "code",
   "execution_count": null,
   "metadata": {},
   "outputs": [],
   "source": [
    "deployment.delete(deployment_name=\"mlflow-test\")"
   ]
  },
  {
   "attachments": {},
   "cell_type": "markdown",
   "metadata": {},
   "source": [
    "## Versioning Our Data  \n",
    "Versioning our data is required in every machine learning project. Here are some reasons why data versioning is needed.  \n",
    "- **Ensure better training data**: ML comprises rapid experimentation, iteration, and training models on data. Thus, training on incorrect data can have disastrous results for the outcomes of an ML project.  \n",
    "- **Track data schema**: Enterprise data is usually obtained in batches, and often minor changes in the ML schema are applied throughout a project. With proper versioning, you can easily track and evolve the data schema over time. You can also understand whether these changes are backward and forward compatible.  \n",
    "- **Continual model training**: In production environments, data is refreshed periodically and may trigger a new run of the model training pipeline. When such automated retraining occurs, it is essential to have data versioned for tracking a model’s efficacy.  \n",
    "- **Enhance traceability and reproducibility**: Data scientists must be able to track, identify the provenance of data, and point out which version of a dataset reinforces the outcomes of their experiments. They should re-run the entire ML pipeline and reproduce the exact results each time as it is a critical input for the modeling process. Thus, the original training data must always be available. Hence, from a reproducibility/traceability perspective, proper versioning is critical.  \n",
    "- **Auditing**: Proper versioning ensures that the integrity of data-based activities is upheld by identifying when modifications are made. By monitoring and analyzing the actions of both users and models, auditors can identify intentional and accidental lapses in user behavior. Data science auditors can thus examine the effect of data changes on model accuracy and determine best ML practices for the enterprise.  \n",
    "This can be done by using our Klops Versioning. Klops Versioning is a kind of version control based on DVC. It is a wrapper for DVC. This wrapper aimed to make every DVC command code minded. "
   ]
  },
  {
   "cell_type": "code",
   "execution_count": null,
   "metadata": {},
   "outputs": [],
   "source": [
    "from klops.versioning import Versioning\n",
    "version = Versioning()"
   ]
  },
  {
   "cell_type": "code",
   "execution_count": null,
   "metadata": {},
   "outputs": [],
   "source": [
    "version.init()"
   ]
  },
  {
   "cell_type": "code",
   "execution_count": null,
   "metadata": {},
   "outputs": [],
   "source": [
    "# Add DVC Remote\n",
    "\n",
    "version.add_remote(name=\"iris\",remote_url=\"gs://dvc-storage-ds-jkt/iris\")"
   ]
  },
  {
   "cell_type": "code",
   "execution_count": null,
   "metadata": {},
   "outputs": [],
   "source": [
    "# Track file\n",
    "version.add(\"notebooks/\")"
   ]
  },
  {
   "cell_type": "code",
   "execution_count": null,
   "metadata": {},
   "outputs": [],
   "source": [
    "# Push revision\n",
    "\n",
    "version.push()"
   ]
  }
 ],
 "metadata": {
  "kernelspec": {
   "display_name": "Python 3.9.13 ('asrul-mlflow')",
   "language": "python",
   "name": "python3"
  },
  "language_info": {
   "codemirror_mode": {
    "name": "ipython",
    "version": 3
   },
   "file_extension": ".py",
   "mimetype": "text/x-python",
   "name": "python",
   "nbconvert_exporter": "python",
   "pygments_lexer": "ipython3",
   "version": "3.9.15"
  },
  "orig_nbformat": 4,
  "vscode": {
   "interpreter": {
    "hash": "571b078681f35b7d47508eead7c23ad0eaa4eec6a7ce65820e5e2f158d207f6c"
   }
  }
 },
 "nbformat": 4,
 "nbformat_minor": 2
}
